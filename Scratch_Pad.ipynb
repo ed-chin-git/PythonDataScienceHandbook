{
  "nbformat": 4,
  "nbformat_minor": 0,
  "metadata": {
    "colab": {
      "name": "Scratch Pad.ipynb",
      "version": "0.3.2",
      "provenance": [],
      "collapsed_sections": [],
      "include_colab_link": true
    },
    "kernelspec": {
      "display_name": "Python 3",
      "language": "python",
      "name": "python3"
    }
  },
  "cells": [
    {
      "cell_type": "markdown",
      "metadata": {
        "id": "view-in-github",
        "colab_type": "text"
      },
      "source": [
        "<a href=\"https://colab.research.google.com/github/ed-chin-git/PythonDataScienceHandbook/blob/master/Scratch_Pad.ipynb\" target=\"_parent\"><img src=\"https://colab.research.google.com/assets/colab-badge.svg\" alt=\"Open In Colab\"/></a>"
      ]
    },
    {
      "metadata": {
        "id": "lOH73mi0Wc3q",
        "colab_type": "text"
      },
      "cell_type": "markdown",
      "source": [
        "# Jupyter Scratch Pad"
      ]
    },
    {
      "metadata": {
        "id": "bFUpubXe3f-j",
        "colab_type": "code",
        "colab": {
          "base_uri": "https://localhost:8080/",
          "height": 122
        },
        "outputId": "a34f12a1-fdce-4e66-b3b9-5997098d4e5e"
      },
      "cell_type": "code",
      "source": [
        "# Load the Drive helper and mount\n",
        "from google.colab import drive\n",
        "\n",
        "# This will prompt for authorization.\n",
        "drive.mount('/content/drive')\n",
        "\n",
        "#data_url = '/content/drive/RejectStatsA.csv'"
      ],
      "execution_count": 1,
      "outputs": [
        {
          "output_type": "stream",
          "text": [
            "Go to this URL in a browser: https://accounts.google.com/o/oauth2/auth?client_id=947318989803-6bn6qk8qdgf4n4g3pfee6491hc0brc4i.apps.googleusercontent.com&redirect_uri=urn%3Aietf%3Awg%3Aoauth%3A2.0%3Aoob&scope=email%20https%3A%2F%2Fwww.googleapis.com%2Fauth%2Fdocs.test%20https%3A%2F%2Fwww.googleapis.com%2Fauth%2Fdrive%20https%3A%2F%2Fwww.googleapis.com%2Fauth%2Fdrive.photos.readonly%20https%3A%2F%2Fwww.googleapis.com%2Fauth%2Fpeopleapi.readonly&response_type=code\n",
            "\n",
            "Enter your authorization code:\n",
            "··········\n",
            "Mounted at /content/drive\n"
          ],
          "name": "stdout"
        }
      ]
    },
    {
      "metadata": {
        "id": "DPhIUu8bNlvH",
        "colab_type": "code",
        "colab": {
          "base_uri": "https://localhost:8080/",
          "height": 561
        },
        "outputId": "3e90ac93-5d67-4bbb-aefd-f7c71e0432bf"
      },
      "cell_type": "code",
      "source": [
        "# After executing the cell above, Drive\n",
        "# files will be present in \"/content/drive/My Drive\".\n",
        "!ls \"/content/drive/My Drive\""
      ],
      "execution_count": 3,
      "outputs": [
        {
          "output_type": "stream",
          "text": [
            "'Alienware 15 Disassembly _ MyFixGuide.pdf'\n",
            "'BMW 528'\n",
            "'Bourse Game Evaluation 2016 Training.pdf'\n",
            "'C# Inheritance Fundamentals. definitions.pdf'\n",
            " Coding\n",
            "'Colab Notebooks'\n",
            " Docs\n",
            " ETS\n",
            "'Google Merchant Center feed - Rio Grande Pickups Product Feed.gsheet'\n",
            "'Google Photos'\n",
            "'Guitar Info pdf'\n",
            "'Insurance ID Card - 2018-04-16.pdf'\n",
            " Intelligent_Security_Operations_-_Staffing_Guide_2016.pdf\n",
            "'JIFS   MONA'\n",
            "'Lambda Profiles.gsheet'\n",
            " nips\n",
            " noidea.jpg\n",
            " OSI-1.png\n",
            "'OSI 2.gif'\n",
            "'OSI 3.jpg'\n",
            "'Paypal Stuff'\n",
            " Pdf\n",
            " RejectStatsA.csv\n",
            "'RIO Newsletters'\n",
            "'Roque C'\n",
            " SamsungNote3\n",
            "'SEO marketing Info'\n",
            "'The ChiWeenies.20170213.mp4'\n",
            " The_Emerald_Tablets_Of_Thoth.pdf\n",
            "'TWC Official Rose.pdf'\n",
            "'TWC Rose.pdf'\n",
            " vfp-wine-whitepaper.pdf\n"
          ],
          "name": "stdout"
        }
      ]
    },
    {
      "metadata": {
        "id": "E_MFe4g3N3Oo",
        "colab_type": "text"
      },
      "cell_type": "markdown",
      "source": [
        ""
      ]
    },
    {
      "metadata": {
        "id": "6UZqSYgU2Z2Y",
        "colab_type": "code",
        "colab": {
          "base_uri": "https://localhost:8080/",
          "height": 221
        },
        "outputId": "104d99e9-fd2a-498b-c176-0f60f169b3ea"
      },
      "cell_type": "code",
      "source": [
        "def nth_fib_function(n):\n",
        "  # without using recursion\n",
        "  fib_seq=[0,1] # each element = sum of 2 prev elements (except for 1st 2 elems)\n",
        "  if n<3:\n",
        "    element=fib_seq[(n-1)]\n",
        "  else:\n",
        "    # create fib sequence with n elements\n",
        "    for i in range(2,n):\n",
        "      fib_no=( fib_seq[i-1]+fib_seq[i-2] )\n",
        "      fib_seq.append(fib_no)\n",
        "    element=fib_seq[n-1]\n",
        "  #print (fib_seq)\n",
        "  return element\n",
        "  \n",
        "def recur_fibo(n):\n",
        "  # with recursion\n",
        "  if n == 1:\n",
        "    return 0\n",
        "  if n == 2: \n",
        "    return 1\n",
        "  else:\n",
        "    return nth_fib_function(n-1) + nth_fib_function(n-2)\n",
        "    \n",
        "def Main():\n",
        "  inSTR=input(\"Fibonacci Element#: \")\n",
        "  if inSTR=='':\n",
        "    return False\n",
        "  N_th = int(inSTR)\n",
        "  if N_th>0:\n",
        "    print('The',N_th,'th number in the Fibonacci sequence =',nth_fib_function(N_th))\n",
        "    print('                           using recursion =',recur_fibo(N_th))\n",
        "    return True\n",
        "  else:  \n",
        "    return False\n",
        "\n",
        "doIt=True\n",
        "while doIt:\n",
        "  doIt=Main()\n",
        "print ('\\nbye.....')"
      ],
      "execution_count": 8,
      "outputs": [
        {
          "output_type": "stream",
          "text": [
            "Fibonacci Element#: 5\n",
            "The 5 th number in the Fibonacci sequence = 3\n",
            "                           using recursion = 3\n",
            "Fibonacci Element#: 6\n",
            "The 6 th number in the Fibonacci sequence = 5\n",
            "                           using recursion = 5\n",
            "Fibonacci Element#: 7\n",
            "The 7 th number in the Fibonacci sequence = 8\n",
            "                           using recursion = 8\n",
            "Fibonacci Element#: \n",
            "\n",
            "bye.....\n"
          ],
          "name": "stdout"
        }
      ]
    },
    {
      "metadata": {
        "id": "mQzIvirE_MwT",
        "colab_type": "code",
        "colab": {}
      },
      "cell_type": "code",
      "source": [
        "#!pip install BeautifulSoup4\n",
        "from bs4 import BeautifulSoup\n",
        "import urllib\n",
        "quote_page = 'http://www.bloomberg.com/quote/SPX:IND'\n",
        "\n",
        "# query the website and return the html to the variable ‘page_content’\n",
        "from urllib.request import urlopen\n",
        "page_content = urlopen(quote_page)\n",
        "\n",
        "\n",
        "#print(page_content)"
      ],
      "execution_count": 0,
      "outputs": []
    }
  ]
}